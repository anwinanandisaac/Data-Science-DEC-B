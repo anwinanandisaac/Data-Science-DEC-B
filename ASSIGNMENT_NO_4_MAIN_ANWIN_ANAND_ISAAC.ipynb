{
  "nbformat": 4,
  "nbformat_minor": 0,
  "metadata": {
    "colab": {
      "provenance": []
    },
    "kernelspec": {
      "name": "python3",
      "display_name": "Python 3"
    },
    "language_info": {
      "name": "python"
    }
  },
  "cells": [
    {
      "cell_type": "markdown",
      "source": [
        "# **IMPORTING USEFUL LIBRARIES TO THE COLAB NOTEBOOK**"
      ],
      "metadata": {
        "id": "vkp3XwIPEopy"
      }
    },
    {
      "cell_type": "code",
      "execution_count": 1,
      "metadata": {
        "id": "-aPwweIbeKE4"
      },
      "outputs": [],
      "source": [
        "import numpy as np                                              #FOR NUMPY\n",
        "import pandas as pd                                             #FOR PANDAS\n",
        "import statistics as stat                                       #FOR STSTISTICS (MEAN, MODE AND MEDIANS)\n",
        "from scipy.stats import chi2_contingency                        #FOR CHI-SQUARED TESTS (TEST OF INDEPENDENCE)\n",
        "from statsmodels.stats.weightstats import ztest                 #FOR Z-TESTS (ONE-TAILED)\n",
        "from scipy.stats import ttest_ind                               #FOR T TESTS (TWO-TAILED)"
      ]
    },
    {
      "cell_type": "code",
      "source": [
        "data_df = pd.read_csv('/content/Sales_add.csv') #UPLOADING THE DESIRED FILE TO SESSION STORAGE"
      ],
      "metadata": {
        "id": "cC93zxIhg5jo"
      },
      "execution_count": 2,
      "outputs": []
    },
    {
      "cell_type": "code",
      "source": [
        "data_df.head()               #DISPLAYING THE 1ST 5 ROWS FROM INDEX 0 TO 4:"
      ],
      "metadata": {
        "colab": {
          "base_uri": "https://localhost:8080/",
          "height": 206
        },
        "id": "OOAADv9XhMV-",
        "outputId": "7c776ba0-63fd-48b9-fff1-81fca880eb50"
      },
      "execution_count": 3,
      "outputs": [
        {
          "output_type": "execute_result",
          "data": {
            "text/plain": [
              "     Month      Region      Manager  Sales_before_digital_add(in $)  \\\n",
              "0  Month-1  Region - A  Manager - A                          132921   \n",
              "1  Month-2  Region - A  Manager - C                          149559   \n",
              "2  Month-3  Region - B  Manager - A                          146278   \n",
              "3  Month-4  Region - B  Manager - B                          152167   \n",
              "4  Month-5  Region - C  Manager - B                          159525   \n",
              "\n",
              "   Sales_After_digital_add(in $)  \n",
              "0                         270390  \n",
              "1                         223334  \n",
              "2                         244243  \n",
              "3                         231808  \n",
              "4                         258402  "
            ],
            "text/html": [
              "\n",
              "  <div id=\"df-70e12d23-abc0-44bf-8da3-9f83bb19f0f0\" class=\"colab-df-container\">\n",
              "    <div>\n",
              "<style scoped>\n",
              "    .dataframe tbody tr th:only-of-type {\n",
              "        vertical-align: middle;\n",
              "    }\n",
              "\n",
              "    .dataframe tbody tr th {\n",
              "        vertical-align: top;\n",
              "    }\n",
              "\n",
              "    .dataframe thead th {\n",
              "        text-align: right;\n",
              "    }\n",
              "</style>\n",
              "<table border=\"1\" class=\"dataframe\">\n",
              "  <thead>\n",
              "    <tr style=\"text-align: right;\">\n",
              "      <th></th>\n",
              "      <th>Month</th>\n",
              "      <th>Region</th>\n",
              "      <th>Manager</th>\n",
              "      <th>Sales_before_digital_add(in $)</th>\n",
              "      <th>Sales_After_digital_add(in $)</th>\n",
              "    </tr>\n",
              "  </thead>\n",
              "  <tbody>\n",
              "    <tr>\n",
              "      <th>0</th>\n",
              "      <td>Month-1</td>\n",
              "      <td>Region - A</td>\n",
              "      <td>Manager - A</td>\n",
              "      <td>132921</td>\n",
              "      <td>270390</td>\n",
              "    </tr>\n",
              "    <tr>\n",
              "      <th>1</th>\n",
              "      <td>Month-2</td>\n",
              "      <td>Region - A</td>\n",
              "      <td>Manager - C</td>\n",
              "      <td>149559</td>\n",
              "      <td>223334</td>\n",
              "    </tr>\n",
              "    <tr>\n",
              "      <th>2</th>\n",
              "      <td>Month-3</td>\n",
              "      <td>Region - B</td>\n",
              "      <td>Manager - A</td>\n",
              "      <td>146278</td>\n",
              "      <td>244243</td>\n",
              "    </tr>\n",
              "    <tr>\n",
              "      <th>3</th>\n",
              "      <td>Month-4</td>\n",
              "      <td>Region - B</td>\n",
              "      <td>Manager - B</td>\n",
              "      <td>152167</td>\n",
              "      <td>231808</td>\n",
              "    </tr>\n",
              "    <tr>\n",
              "      <th>4</th>\n",
              "      <td>Month-5</td>\n",
              "      <td>Region - C</td>\n",
              "      <td>Manager - B</td>\n",
              "      <td>159525</td>\n",
              "      <td>258402</td>\n",
              "    </tr>\n",
              "  </tbody>\n",
              "</table>\n",
              "</div>\n",
              "    <div class=\"colab-df-buttons\">\n",
              "\n",
              "  <div class=\"colab-df-container\">\n",
              "    <button class=\"colab-df-convert\" onclick=\"convertToInteractive('df-70e12d23-abc0-44bf-8da3-9f83bb19f0f0')\"\n",
              "            title=\"Convert this dataframe to an interactive table.\"\n",
              "            style=\"display:none;\">\n",
              "\n",
              "  <svg xmlns=\"http://www.w3.org/2000/svg\" height=\"24px\" viewBox=\"0 -960 960 960\">\n",
              "    <path d=\"M120-120v-720h720v720H120Zm60-500h600v-160H180v160Zm220 220h160v-160H400v160Zm0 220h160v-160H400v160ZM180-400h160v-160H180v160Zm440 0h160v-160H620v160ZM180-180h160v-160H180v160Zm440 0h160v-160H620v160Z\"/>\n",
              "  </svg>\n",
              "    </button>\n",
              "\n",
              "  <style>\n",
              "    .colab-df-container {\n",
              "      display:flex;\n",
              "      gap: 12px;\n",
              "    }\n",
              "\n",
              "    .colab-df-convert {\n",
              "      background-color: #E8F0FE;\n",
              "      border: none;\n",
              "      border-radius: 50%;\n",
              "      cursor: pointer;\n",
              "      display: none;\n",
              "      fill: #1967D2;\n",
              "      height: 32px;\n",
              "      padding: 0 0 0 0;\n",
              "      width: 32px;\n",
              "    }\n",
              "\n",
              "    .colab-df-convert:hover {\n",
              "      background-color: #E2EBFA;\n",
              "      box-shadow: 0px 1px 2px rgba(60, 64, 67, 0.3), 0px 1px 3px 1px rgba(60, 64, 67, 0.15);\n",
              "      fill: #174EA6;\n",
              "    }\n",
              "\n",
              "    .colab-df-buttons div {\n",
              "      margin-bottom: 4px;\n",
              "    }\n",
              "\n",
              "    [theme=dark] .colab-df-convert {\n",
              "      background-color: #3B4455;\n",
              "      fill: #D2E3FC;\n",
              "    }\n",
              "\n",
              "    [theme=dark] .colab-df-convert:hover {\n",
              "      background-color: #434B5C;\n",
              "      box-shadow: 0px 1px 3px 1px rgba(0, 0, 0, 0.15);\n",
              "      filter: drop-shadow(0px 1px 2px rgba(0, 0, 0, 0.3));\n",
              "      fill: #FFFFFF;\n",
              "    }\n",
              "  </style>\n",
              "\n",
              "    <script>\n",
              "      const buttonEl =\n",
              "        document.querySelector('#df-70e12d23-abc0-44bf-8da3-9f83bb19f0f0 button.colab-df-convert');\n",
              "      buttonEl.style.display =\n",
              "        google.colab.kernel.accessAllowed ? 'block' : 'none';\n",
              "\n",
              "      async function convertToInteractive(key) {\n",
              "        const element = document.querySelector('#df-70e12d23-abc0-44bf-8da3-9f83bb19f0f0');\n",
              "        const dataTable =\n",
              "          await google.colab.kernel.invokeFunction('convertToInteractive',\n",
              "                                                    [key], {});\n",
              "        if (!dataTable) return;\n",
              "\n",
              "        const docLinkHtml = 'Like what you see? Visit the ' +\n",
              "          '<a target=\"_blank\" href=https://colab.research.google.com/notebooks/data_table.ipynb>data table notebook</a>'\n",
              "          + ' to learn more about interactive tables.';\n",
              "        element.innerHTML = '';\n",
              "        dataTable['output_type'] = 'display_data';\n",
              "        await google.colab.output.renderOutput(dataTable, element);\n",
              "        const docLink = document.createElement('div');\n",
              "        docLink.innerHTML = docLinkHtml;\n",
              "        element.appendChild(docLink);\n",
              "      }\n",
              "    </script>\n",
              "  </div>\n",
              "\n",
              "\n",
              "<div id=\"df-475b5aa2-6cd7-459b-b013-c1b09b0e90d7\">\n",
              "  <button class=\"colab-df-quickchart\" onclick=\"quickchart('df-475b5aa2-6cd7-459b-b013-c1b09b0e90d7')\"\n",
              "            title=\"Suggest charts\"\n",
              "            style=\"display:none;\">\n",
              "\n",
              "<svg xmlns=\"http://www.w3.org/2000/svg\" height=\"24px\"viewBox=\"0 0 24 24\"\n",
              "     width=\"24px\">\n",
              "    <g>\n",
              "        <path d=\"M19 3H5c-1.1 0-2 .9-2 2v14c0 1.1.9 2 2 2h14c1.1 0 2-.9 2-2V5c0-1.1-.9-2-2-2zM9 17H7v-7h2v7zm4 0h-2V7h2v10zm4 0h-2v-4h2v4z\"/>\n",
              "    </g>\n",
              "</svg>\n",
              "  </button>\n",
              "\n",
              "<style>\n",
              "  .colab-df-quickchart {\n",
              "      --bg-color: #E8F0FE;\n",
              "      --fill-color: #1967D2;\n",
              "      --hover-bg-color: #E2EBFA;\n",
              "      --hover-fill-color: #174EA6;\n",
              "      --disabled-fill-color: #AAA;\n",
              "      --disabled-bg-color: #DDD;\n",
              "  }\n",
              "\n",
              "  [theme=dark] .colab-df-quickchart {\n",
              "      --bg-color: #3B4455;\n",
              "      --fill-color: #D2E3FC;\n",
              "      --hover-bg-color: #434B5C;\n",
              "      --hover-fill-color: #FFFFFF;\n",
              "      --disabled-bg-color: #3B4455;\n",
              "      --disabled-fill-color: #666;\n",
              "  }\n",
              "\n",
              "  .colab-df-quickchart {\n",
              "    background-color: var(--bg-color);\n",
              "    border: none;\n",
              "    border-radius: 50%;\n",
              "    cursor: pointer;\n",
              "    display: none;\n",
              "    fill: var(--fill-color);\n",
              "    height: 32px;\n",
              "    padding: 0;\n",
              "    width: 32px;\n",
              "  }\n",
              "\n",
              "  .colab-df-quickchart:hover {\n",
              "    background-color: var(--hover-bg-color);\n",
              "    box-shadow: 0 1px 2px rgba(60, 64, 67, 0.3), 0 1px 3px 1px rgba(60, 64, 67, 0.15);\n",
              "    fill: var(--button-hover-fill-color);\n",
              "  }\n",
              "\n",
              "  .colab-df-quickchart-complete:disabled,\n",
              "  .colab-df-quickchart-complete:disabled:hover {\n",
              "    background-color: var(--disabled-bg-color);\n",
              "    fill: var(--disabled-fill-color);\n",
              "    box-shadow: none;\n",
              "  }\n",
              "\n",
              "  .colab-df-spinner {\n",
              "    border: 2px solid var(--fill-color);\n",
              "    border-color: transparent;\n",
              "    border-bottom-color: var(--fill-color);\n",
              "    animation:\n",
              "      spin 1s steps(1) infinite;\n",
              "  }\n",
              "\n",
              "  @keyframes spin {\n",
              "    0% {\n",
              "      border-color: transparent;\n",
              "      border-bottom-color: var(--fill-color);\n",
              "      border-left-color: var(--fill-color);\n",
              "    }\n",
              "    20% {\n",
              "      border-color: transparent;\n",
              "      border-left-color: var(--fill-color);\n",
              "      border-top-color: var(--fill-color);\n",
              "    }\n",
              "    30% {\n",
              "      border-color: transparent;\n",
              "      border-left-color: var(--fill-color);\n",
              "      border-top-color: var(--fill-color);\n",
              "      border-right-color: var(--fill-color);\n",
              "    }\n",
              "    40% {\n",
              "      border-color: transparent;\n",
              "      border-right-color: var(--fill-color);\n",
              "      border-top-color: var(--fill-color);\n",
              "    }\n",
              "    60% {\n",
              "      border-color: transparent;\n",
              "      border-right-color: var(--fill-color);\n",
              "    }\n",
              "    80% {\n",
              "      border-color: transparent;\n",
              "      border-right-color: var(--fill-color);\n",
              "      border-bottom-color: var(--fill-color);\n",
              "    }\n",
              "    90% {\n",
              "      border-color: transparent;\n",
              "      border-bottom-color: var(--fill-color);\n",
              "    }\n",
              "  }\n",
              "</style>\n",
              "\n",
              "  <script>\n",
              "    async function quickchart(key) {\n",
              "      const quickchartButtonEl =\n",
              "        document.querySelector('#' + key + ' button');\n",
              "      quickchartButtonEl.disabled = true;  // To prevent multiple clicks.\n",
              "      quickchartButtonEl.classList.add('colab-df-spinner');\n",
              "      try {\n",
              "        const charts = await google.colab.kernel.invokeFunction(\n",
              "            'suggestCharts', [key], {});\n",
              "      } catch (error) {\n",
              "        console.error('Error during call to suggestCharts:', error);\n",
              "      }\n",
              "      quickchartButtonEl.classList.remove('colab-df-spinner');\n",
              "      quickchartButtonEl.classList.add('colab-df-quickchart-complete');\n",
              "    }\n",
              "    (() => {\n",
              "      let quickchartButtonEl =\n",
              "        document.querySelector('#df-475b5aa2-6cd7-459b-b013-c1b09b0e90d7 button');\n",
              "      quickchartButtonEl.style.display =\n",
              "        google.colab.kernel.accessAllowed ? 'block' : 'none';\n",
              "    })();\n",
              "  </script>\n",
              "</div>\n",
              "\n",
              "    </div>\n",
              "  </div>\n"
            ],
            "application/vnd.google.colaboratory.intrinsic+json": {
              "type": "dataframe",
              "variable_name": "data_df",
              "summary": "{\n  \"name\": \"data_df\",\n  \"rows\": 22,\n  \"fields\": [\n    {\n      \"column\": \"Month\",\n      \"properties\": {\n        \"dtype\": \"string\",\n        \"samples\": [\n          \"Month-1\",\n          \"Month-14\",\n          \"Month-9\"\n        ],\n        \"num_unique_values\": 22,\n        \"semantic_type\": \"\",\n        \"description\": \"\"\n      }\n    },\n    {\n      \"column\": \"Region\",\n      \"properties\": {\n        \"dtype\": \"category\",\n        \"samples\": [\n          \"Region - A\",\n          \"Region - B\",\n          \"Region - C\"\n        ],\n        \"num_unique_values\": 3,\n        \"semantic_type\": \"\",\n        \"description\": \"\"\n      }\n    },\n    {\n      \"column\": \"Manager\",\n      \"properties\": {\n        \"dtype\": \"category\",\n        \"samples\": [\n          \"Manager - A\",\n          \"Manager - C\",\n          \"Manager - B\"\n        ],\n        \"num_unique_values\": 3,\n        \"semantic_type\": \"\",\n        \"description\": \"\"\n      }\n    },\n    {\n      \"column\": \"Sales_before_digital_add(in $)\",\n      \"properties\": {\n        \"dtype\": \"number\",\n        \"std\": 14844,\n        \"min\": 130263,\n        \"max\": 178939,\n        \"samples\": [\n          132921,\n          151514,\n          171259\n        ],\n        \"num_unique_values\": 22,\n        \"semantic_type\": \"\",\n        \"description\": \"\"\n      }\n    },\n    {\n      \"column\": \"Sales_After_digital_add(in $)\",\n      \"properties\": {\n        \"dtype\": \"number\",\n        \"std\": 25556,\n        \"min\": 187305,\n        \"max\": 276279,\n        \"samples\": [\n          270390,\n          253131,\n          226261\n        ],\n        \"num_unique_values\": 22,\n        \"semantic_type\": \"\",\n        \"description\": \"\"\n      }\n    }\n  ]\n}"
            }
          },
          "metadata": {},
          "execution_count": 3
        }
      ]
    },
    {
      "cell_type": "code",
      "source": [
        "data_df.tail()            #DISPLAYING THE LAST 5 ROWS FROM 18 TO 23"
      ],
      "metadata": {
        "colab": {
          "base_uri": "https://localhost:8080/",
          "height": 206
        },
        "id": "q_4K-qfYhVka",
        "outputId": "33f8602d-2a67-46e8-a321-5a48406a9793"
      },
      "execution_count": 4,
      "outputs": [
        {
          "output_type": "execute_result",
          "data": {
            "text/plain": [
              "       Month      Region      Manager  Sales_before_digital_add(in $)  \\\n",
              "17  Month-18  Region - C  Manager - B                          167996   \n",
              "18  Month-19  Region - B  Manager - A                          132135   \n",
              "19  Month-20  Region - A  Manager - B                          152493   \n",
              "20  Month-21  Region - B  Manager - A                          147425   \n",
              "21  Month-22  Region - A  Manager - C                          130263   \n",
              "\n",
              "    Sales_After_digital_add(in $)  \n",
              "17                         191517  \n",
              "18                         227040  \n",
              "19                         212579  \n",
              "20                         263388  \n",
              "21                         243020  "
            ],
            "text/html": [
              "\n",
              "  <div id=\"df-a0aae892-e737-43da-a54a-e8ddd5b46fb2\" class=\"colab-df-container\">\n",
              "    <div>\n",
              "<style scoped>\n",
              "    .dataframe tbody tr th:only-of-type {\n",
              "        vertical-align: middle;\n",
              "    }\n",
              "\n",
              "    .dataframe tbody tr th {\n",
              "        vertical-align: top;\n",
              "    }\n",
              "\n",
              "    .dataframe thead th {\n",
              "        text-align: right;\n",
              "    }\n",
              "</style>\n",
              "<table border=\"1\" class=\"dataframe\">\n",
              "  <thead>\n",
              "    <tr style=\"text-align: right;\">\n",
              "      <th></th>\n",
              "      <th>Month</th>\n",
              "      <th>Region</th>\n",
              "      <th>Manager</th>\n",
              "      <th>Sales_before_digital_add(in $)</th>\n",
              "      <th>Sales_After_digital_add(in $)</th>\n",
              "    </tr>\n",
              "  </thead>\n",
              "  <tbody>\n",
              "    <tr>\n",
              "      <th>17</th>\n",
              "      <td>Month-18</td>\n",
              "      <td>Region - C</td>\n",
              "      <td>Manager - B</td>\n",
              "      <td>167996</td>\n",
              "      <td>191517</td>\n",
              "    </tr>\n",
              "    <tr>\n",
              "      <th>18</th>\n",
              "      <td>Month-19</td>\n",
              "      <td>Region - B</td>\n",
              "      <td>Manager - A</td>\n",
              "      <td>132135</td>\n",
              "      <td>227040</td>\n",
              "    </tr>\n",
              "    <tr>\n",
              "      <th>19</th>\n",
              "      <td>Month-20</td>\n",
              "      <td>Region - A</td>\n",
              "      <td>Manager - B</td>\n",
              "      <td>152493</td>\n",
              "      <td>212579</td>\n",
              "    </tr>\n",
              "    <tr>\n",
              "      <th>20</th>\n",
              "      <td>Month-21</td>\n",
              "      <td>Region - B</td>\n",
              "      <td>Manager - A</td>\n",
              "      <td>147425</td>\n",
              "      <td>263388</td>\n",
              "    </tr>\n",
              "    <tr>\n",
              "      <th>21</th>\n",
              "      <td>Month-22</td>\n",
              "      <td>Region - A</td>\n",
              "      <td>Manager - C</td>\n",
              "      <td>130263</td>\n",
              "      <td>243020</td>\n",
              "    </tr>\n",
              "  </tbody>\n",
              "</table>\n",
              "</div>\n",
              "    <div class=\"colab-df-buttons\">\n",
              "\n",
              "  <div class=\"colab-df-container\">\n",
              "    <button class=\"colab-df-convert\" onclick=\"convertToInteractive('df-a0aae892-e737-43da-a54a-e8ddd5b46fb2')\"\n",
              "            title=\"Convert this dataframe to an interactive table.\"\n",
              "            style=\"display:none;\">\n",
              "\n",
              "  <svg xmlns=\"http://www.w3.org/2000/svg\" height=\"24px\" viewBox=\"0 -960 960 960\">\n",
              "    <path d=\"M120-120v-720h720v720H120Zm60-500h600v-160H180v160Zm220 220h160v-160H400v160Zm0 220h160v-160H400v160ZM180-400h160v-160H180v160Zm440 0h160v-160H620v160ZM180-180h160v-160H180v160Zm440 0h160v-160H620v160Z\"/>\n",
              "  </svg>\n",
              "    </button>\n",
              "\n",
              "  <style>\n",
              "    .colab-df-container {\n",
              "      display:flex;\n",
              "      gap: 12px;\n",
              "    }\n",
              "\n",
              "    .colab-df-convert {\n",
              "      background-color: #E8F0FE;\n",
              "      border: none;\n",
              "      border-radius: 50%;\n",
              "      cursor: pointer;\n",
              "      display: none;\n",
              "      fill: #1967D2;\n",
              "      height: 32px;\n",
              "      padding: 0 0 0 0;\n",
              "      width: 32px;\n",
              "    }\n",
              "\n",
              "    .colab-df-convert:hover {\n",
              "      background-color: #E2EBFA;\n",
              "      box-shadow: 0px 1px 2px rgba(60, 64, 67, 0.3), 0px 1px 3px 1px rgba(60, 64, 67, 0.15);\n",
              "      fill: #174EA6;\n",
              "    }\n",
              "\n",
              "    .colab-df-buttons div {\n",
              "      margin-bottom: 4px;\n",
              "    }\n",
              "\n",
              "    [theme=dark] .colab-df-convert {\n",
              "      background-color: #3B4455;\n",
              "      fill: #D2E3FC;\n",
              "    }\n",
              "\n",
              "    [theme=dark] .colab-df-convert:hover {\n",
              "      background-color: #434B5C;\n",
              "      box-shadow: 0px 1px 3px 1px rgba(0, 0, 0, 0.15);\n",
              "      filter: drop-shadow(0px 1px 2px rgba(0, 0, 0, 0.3));\n",
              "      fill: #FFFFFF;\n",
              "    }\n",
              "  </style>\n",
              "\n",
              "    <script>\n",
              "      const buttonEl =\n",
              "        document.querySelector('#df-a0aae892-e737-43da-a54a-e8ddd5b46fb2 button.colab-df-convert');\n",
              "      buttonEl.style.display =\n",
              "        google.colab.kernel.accessAllowed ? 'block' : 'none';\n",
              "\n",
              "      async function convertToInteractive(key) {\n",
              "        const element = document.querySelector('#df-a0aae892-e737-43da-a54a-e8ddd5b46fb2');\n",
              "        const dataTable =\n",
              "          await google.colab.kernel.invokeFunction('convertToInteractive',\n",
              "                                                    [key], {});\n",
              "        if (!dataTable) return;\n",
              "\n",
              "        const docLinkHtml = 'Like what you see? Visit the ' +\n",
              "          '<a target=\"_blank\" href=https://colab.research.google.com/notebooks/data_table.ipynb>data table notebook</a>'\n",
              "          + ' to learn more about interactive tables.';\n",
              "        element.innerHTML = '';\n",
              "        dataTable['output_type'] = 'display_data';\n",
              "        await google.colab.output.renderOutput(dataTable, element);\n",
              "        const docLink = document.createElement('div');\n",
              "        docLink.innerHTML = docLinkHtml;\n",
              "        element.appendChild(docLink);\n",
              "      }\n",
              "    </script>\n",
              "  </div>\n",
              "\n",
              "\n",
              "<div id=\"df-d1ca8e37-0286-44af-bc14-1d0e9e27455b\">\n",
              "  <button class=\"colab-df-quickchart\" onclick=\"quickchart('df-d1ca8e37-0286-44af-bc14-1d0e9e27455b')\"\n",
              "            title=\"Suggest charts\"\n",
              "            style=\"display:none;\">\n",
              "\n",
              "<svg xmlns=\"http://www.w3.org/2000/svg\" height=\"24px\"viewBox=\"0 0 24 24\"\n",
              "     width=\"24px\">\n",
              "    <g>\n",
              "        <path d=\"M19 3H5c-1.1 0-2 .9-2 2v14c0 1.1.9 2 2 2h14c1.1 0 2-.9 2-2V5c0-1.1-.9-2-2-2zM9 17H7v-7h2v7zm4 0h-2V7h2v10zm4 0h-2v-4h2v4z\"/>\n",
              "    </g>\n",
              "</svg>\n",
              "  </button>\n",
              "\n",
              "<style>\n",
              "  .colab-df-quickchart {\n",
              "      --bg-color: #E8F0FE;\n",
              "      --fill-color: #1967D2;\n",
              "      --hover-bg-color: #E2EBFA;\n",
              "      --hover-fill-color: #174EA6;\n",
              "      --disabled-fill-color: #AAA;\n",
              "      --disabled-bg-color: #DDD;\n",
              "  }\n",
              "\n",
              "  [theme=dark] .colab-df-quickchart {\n",
              "      --bg-color: #3B4455;\n",
              "      --fill-color: #D2E3FC;\n",
              "      --hover-bg-color: #434B5C;\n",
              "      --hover-fill-color: #FFFFFF;\n",
              "      --disabled-bg-color: #3B4455;\n",
              "      --disabled-fill-color: #666;\n",
              "  }\n",
              "\n",
              "  .colab-df-quickchart {\n",
              "    background-color: var(--bg-color);\n",
              "    border: none;\n",
              "    border-radius: 50%;\n",
              "    cursor: pointer;\n",
              "    display: none;\n",
              "    fill: var(--fill-color);\n",
              "    height: 32px;\n",
              "    padding: 0;\n",
              "    width: 32px;\n",
              "  }\n",
              "\n",
              "  .colab-df-quickchart:hover {\n",
              "    background-color: var(--hover-bg-color);\n",
              "    box-shadow: 0 1px 2px rgba(60, 64, 67, 0.3), 0 1px 3px 1px rgba(60, 64, 67, 0.15);\n",
              "    fill: var(--button-hover-fill-color);\n",
              "  }\n",
              "\n",
              "  .colab-df-quickchart-complete:disabled,\n",
              "  .colab-df-quickchart-complete:disabled:hover {\n",
              "    background-color: var(--disabled-bg-color);\n",
              "    fill: var(--disabled-fill-color);\n",
              "    box-shadow: none;\n",
              "  }\n",
              "\n",
              "  .colab-df-spinner {\n",
              "    border: 2px solid var(--fill-color);\n",
              "    border-color: transparent;\n",
              "    border-bottom-color: var(--fill-color);\n",
              "    animation:\n",
              "      spin 1s steps(1) infinite;\n",
              "  }\n",
              "\n",
              "  @keyframes spin {\n",
              "    0% {\n",
              "      border-color: transparent;\n",
              "      border-bottom-color: var(--fill-color);\n",
              "      border-left-color: var(--fill-color);\n",
              "    }\n",
              "    20% {\n",
              "      border-color: transparent;\n",
              "      border-left-color: var(--fill-color);\n",
              "      border-top-color: var(--fill-color);\n",
              "    }\n",
              "    30% {\n",
              "      border-color: transparent;\n",
              "      border-left-color: var(--fill-color);\n",
              "      border-top-color: var(--fill-color);\n",
              "      border-right-color: var(--fill-color);\n",
              "    }\n",
              "    40% {\n",
              "      border-color: transparent;\n",
              "      border-right-color: var(--fill-color);\n",
              "      border-top-color: var(--fill-color);\n",
              "    }\n",
              "    60% {\n",
              "      border-color: transparent;\n",
              "      border-right-color: var(--fill-color);\n",
              "    }\n",
              "    80% {\n",
              "      border-color: transparent;\n",
              "      border-right-color: var(--fill-color);\n",
              "      border-bottom-color: var(--fill-color);\n",
              "    }\n",
              "    90% {\n",
              "      border-color: transparent;\n",
              "      border-bottom-color: var(--fill-color);\n",
              "    }\n",
              "  }\n",
              "</style>\n",
              "\n",
              "  <script>\n",
              "    async function quickchart(key) {\n",
              "      const quickchartButtonEl =\n",
              "        document.querySelector('#' + key + ' button');\n",
              "      quickchartButtonEl.disabled = true;  // To prevent multiple clicks.\n",
              "      quickchartButtonEl.classList.add('colab-df-spinner');\n",
              "      try {\n",
              "        const charts = await google.colab.kernel.invokeFunction(\n",
              "            'suggestCharts', [key], {});\n",
              "      } catch (error) {\n",
              "        console.error('Error during call to suggestCharts:', error);\n",
              "      }\n",
              "      quickchartButtonEl.classList.remove('colab-df-spinner');\n",
              "      quickchartButtonEl.classList.add('colab-df-quickchart-complete');\n",
              "    }\n",
              "    (() => {\n",
              "      let quickchartButtonEl =\n",
              "        document.querySelector('#df-d1ca8e37-0286-44af-bc14-1d0e9e27455b button');\n",
              "      quickchartButtonEl.style.display =\n",
              "        google.colab.kernel.accessAllowed ? 'block' : 'none';\n",
              "    })();\n",
              "  </script>\n",
              "</div>\n",
              "\n",
              "    </div>\n",
              "  </div>\n"
            ],
            "application/vnd.google.colaboratory.intrinsic+json": {
              "type": "dataframe",
              "summary": "{\n  \"name\": \"data_df\",\n  \"rows\": 5,\n  \"fields\": [\n    {\n      \"column\": \"Month\",\n      \"properties\": {\n        \"dtype\": \"string\",\n        \"samples\": [\n          \"Month-19\",\n          \"Month-22\",\n          \"Month-20\"\n        ],\n        \"num_unique_values\": 5,\n        \"semantic_type\": \"\",\n        \"description\": \"\"\n      }\n    },\n    {\n      \"column\": \"Region\",\n      \"properties\": {\n        \"dtype\": \"string\",\n        \"samples\": [\n          \"Region - C\",\n          \"Region - B\",\n          \"Region - A\"\n        ],\n        \"num_unique_values\": 3,\n        \"semantic_type\": \"\",\n        \"description\": \"\"\n      }\n    },\n    {\n      \"column\": \"Manager\",\n      \"properties\": {\n        \"dtype\": \"string\",\n        \"samples\": [\n          \"Manager - B\",\n          \"Manager - A\",\n          \"Manager - C\"\n        ],\n        \"num_unique_values\": 3,\n        \"semantic_type\": \"\",\n        \"description\": \"\"\n      }\n    },\n    {\n      \"column\": \"Sales_before_digital_add(in $)\",\n      \"properties\": {\n        \"dtype\": \"number\",\n        \"std\": 15555,\n        \"min\": 130263,\n        \"max\": 167996,\n        \"samples\": [\n          132135,\n          130263,\n          152493\n        ],\n        \"num_unique_values\": 5,\n        \"semantic_type\": \"\",\n        \"description\": \"\"\n      }\n    },\n    {\n      \"column\": \"Sales_After_digital_add(in $)\",\n      \"properties\": {\n        \"dtype\": \"number\",\n        \"std\": 27597,\n        \"min\": 191517,\n        \"max\": 263388,\n        \"samples\": [\n          227040,\n          243020,\n          212579\n        ],\n        \"num_unique_values\": 5,\n        \"semantic_type\": \"\",\n        \"description\": \"\"\n      }\n    }\n  ]\n}"
            }
          },
          "metadata": {},
          "execution_count": 4
        }
      ]
    },
    {
      "cell_type": "code",
      "source": [
        "data_df.info()          # FUNCTION USED TO FIND ALL INFORMATION ABOUT THE COLUMNS, NULL OR NON NULL VALUE COUNTS AND DTYPES."
      ],
      "metadata": {
        "colab": {
          "base_uri": "https://localhost:8080/"
        },
        "id": "hOh7K_ybhcxU",
        "outputId": "23a94f5b-7dc9-4449-b0be-731a3558b6f0"
      },
      "execution_count": 5,
      "outputs": [
        {
          "output_type": "stream",
          "name": "stdout",
          "text": [
            "<class 'pandas.core.frame.DataFrame'>\n",
            "RangeIndex: 22 entries, 0 to 21\n",
            "Data columns (total 5 columns):\n",
            " #   Column                          Non-Null Count  Dtype \n",
            "---  ------                          --------------  ----- \n",
            " 0   Month                           22 non-null     object\n",
            " 1   Region                          22 non-null     object\n",
            " 2   Manager                         22 non-null     object\n",
            " 3   Sales_before_digital_add(in $)  22 non-null     int64 \n",
            " 4   Sales_After_digital_add(in $)   22 non-null     int64 \n",
            "dtypes: int64(2), object(3)\n",
            "memory usage: 1008.0+ bytes\n"
          ]
        }
      ]
    },
    {
      "cell_type": "code",
      "source": [
        "data_df.describe()            #FUNCTION TO INVOKE COUNT,MEAN,STANDARD DEVIATION,MIN AND MAX VALUES."
      ],
      "metadata": {
        "colab": {
          "base_uri": "https://localhost:8080/",
          "height": 300
        },
        "id": "b9rqFdMFhkEq",
        "outputId": "6d0278b5-450f-4fa3-9998-8fe5585c2239"
      },
      "execution_count": 6,
      "outputs": [
        {
          "output_type": "execute_result",
          "data": {
            "text/plain": [
              "       Sales_before_digital_add(in $)  Sales_After_digital_add(in $)\n",
              "count                       22.000000                      22.000000\n",
              "mean                    149239.954545                  231123.727273\n",
              "std                      14844.042921                   25556.777061\n",
              "min                     130263.000000                  187305.000000\n",
              "25%                     138087.750000                  214960.750000\n",
              "50%                     147444.000000                  229986.500000\n",
              "75%                     157627.500000                  250909.000000\n",
              "max                     178939.000000                  276279.000000"
            ],
            "text/html": [
              "\n",
              "  <div id=\"df-ffc7182d-768a-40aa-b922-6caba0b4b63f\" class=\"colab-df-container\">\n",
              "    <div>\n",
              "<style scoped>\n",
              "    .dataframe tbody tr th:only-of-type {\n",
              "        vertical-align: middle;\n",
              "    }\n",
              "\n",
              "    .dataframe tbody tr th {\n",
              "        vertical-align: top;\n",
              "    }\n",
              "\n",
              "    .dataframe thead th {\n",
              "        text-align: right;\n",
              "    }\n",
              "</style>\n",
              "<table border=\"1\" class=\"dataframe\">\n",
              "  <thead>\n",
              "    <tr style=\"text-align: right;\">\n",
              "      <th></th>\n",
              "      <th>Sales_before_digital_add(in $)</th>\n",
              "      <th>Sales_After_digital_add(in $)</th>\n",
              "    </tr>\n",
              "  </thead>\n",
              "  <tbody>\n",
              "    <tr>\n",
              "      <th>count</th>\n",
              "      <td>22.000000</td>\n",
              "      <td>22.000000</td>\n",
              "    </tr>\n",
              "    <tr>\n",
              "      <th>mean</th>\n",
              "      <td>149239.954545</td>\n",
              "      <td>231123.727273</td>\n",
              "    </tr>\n",
              "    <tr>\n",
              "      <th>std</th>\n",
              "      <td>14844.042921</td>\n",
              "      <td>25556.777061</td>\n",
              "    </tr>\n",
              "    <tr>\n",
              "      <th>min</th>\n",
              "      <td>130263.000000</td>\n",
              "      <td>187305.000000</td>\n",
              "    </tr>\n",
              "    <tr>\n",
              "      <th>25%</th>\n",
              "      <td>138087.750000</td>\n",
              "      <td>214960.750000</td>\n",
              "    </tr>\n",
              "    <tr>\n",
              "      <th>50%</th>\n",
              "      <td>147444.000000</td>\n",
              "      <td>229986.500000</td>\n",
              "    </tr>\n",
              "    <tr>\n",
              "      <th>75%</th>\n",
              "      <td>157627.500000</td>\n",
              "      <td>250909.000000</td>\n",
              "    </tr>\n",
              "    <tr>\n",
              "      <th>max</th>\n",
              "      <td>178939.000000</td>\n",
              "      <td>276279.000000</td>\n",
              "    </tr>\n",
              "  </tbody>\n",
              "</table>\n",
              "</div>\n",
              "    <div class=\"colab-df-buttons\">\n",
              "\n",
              "  <div class=\"colab-df-container\">\n",
              "    <button class=\"colab-df-convert\" onclick=\"convertToInteractive('df-ffc7182d-768a-40aa-b922-6caba0b4b63f')\"\n",
              "            title=\"Convert this dataframe to an interactive table.\"\n",
              "            style=\"display:none;\">\n",
              "\n",
              "  <svg xmlns=\"http://www.w3.org/2000/svg\" height=\"24px\" viewBox=\"0 -960 960 960\">\n",
              "    <path d=\"M120-120v-720h720v720H120Zm60-500h600v-160H180v160Zm220 220h160v-160H400v160Zm0 220h160v-160H400v160ZM180-400h160v-160H180v160Zm440 0h160v-160H620v160ZM180-180h160v-160H180v160Zm440 0h160v-160H620v160Z\"/>\n",
              "  </svg>\n",
              "    </button>\n",
              "\n",
              "  <style>\n",
              "    .colab-df-container {\n",
              "      display:flex;\n",
              "      gap: 12px;\n",
              "    }\n",
              "\n",
              "    .colab-df-convert {\n",
              "      background-color: #E8F0FE;\n",
              "      border: none;\n",
              "      border-radius: 50%;\n",
              "      cursor: pointer;\n",
              "      display: none;\n",
              "      fill: #1967D2;\n",
              "      height: 32px;\n",
              "      padding: 0 0 0 0;\n",
              "      width: 32px;\n",
              "    }\n",
              "\n",
              "    .colab-df-convert:hover {\n",
              "      background-color: #E2EBFA;\n",
              "      box-shadow: 0px 1px 2px rgba(60, 64, 67, 0.3), 0px 1px 3px 1px rgba(60, 64, 67, 0.15);\n",
              "      fill: #174EA6;\n",
              "    }\n",
              "\n",
              "    .colab-df-buttons div {\n",
              "      margin-bottom: 4px;\n",
              "    }\n",
              "\n",
              "    [theme=dark] .colab-df-convert {\n",
              "      background-color: #3B4455;\n",
              "      fill: #D2E3FC;\n",
              "    }\n",
              "\n",
              "    [theme=dark] .colab-df-convert:hover {\n",
              "      background-color: #434B5C;\n",
              "      box-shadow: 0px 1px 3px 1px rgba(0, 0, 0, 0.15);\n",
              "      filter: drop-shadow(0px 1px 2px rgba(0, 0, 0, 0.3));\n",
              "      fill: #FFFFFF;\n",
              "    }\n",
              "  </style>\n",
              "\n",
              "    <script>\n",
              "      const buttonEl =\n",
              "        document.querySelector('#df-ffc7182d-768a-40aa-b922-6caba0b4b63f button.colab-df-convert');\n",
              "      buttonEl.style.display =\n",
              "        google.colab.kernel.accessAllowed ? 'block' : 'none';\n",
              "\n",
              "      async function convertToInteractive(key) {\n",
              "        const element = document.querySelector('#df-ffc7182d-768a-40aa-b922-6caba0b4b63f');\n",
              "        const dataTable =\n",
              "          await google.colab.kernel.invokeFunction('convertToInteractive',\n",
              "                                                    [key], {});\n",
              "        if (!dataTable) return;\n",
              "\n",
              "        const docLinkHtml = 'Like what you see? Visit the ' +\n",
              "          '<a target=\"_blank\" href=https://colab.research.google.com/notebooks/data_table.ipynb>data table notebook</a>'\n",
              "          + ' to learn more about interactive tables.';\n",
              "        element.innerHTML = '';\n",
              "        dataTable['output_type'] = 'display_data';\n",
              "        await google.colab.output.renderOutput(dataTable, element);\n",
              "        const docLink = document.createElement('div');\n",
              "        docLink.innerHTML = docLinkHtml;\n",
              "        element.appendChild(docLink);\n",
              "      }\n",
              "    </script>\n",
              "  </div>\n",
              "\n",
              "\n",
              "<div id=\"df-98d393b8-0edf-4437-b843-96cda3e427be\">\n",
              "  <button class=\"colab-df-quickchart\" onclick=\"quickchart('df-98d393b8-0edf-4437-b843-96cda3e427be')\"\n",
              "            title=\"Suggest charts\"\n",
              "            style=\"display:none;\">\n",
              "\n",
              "<svg xmlns=\"http://www.w3.org/2000/svg\" height=\"24px\"viewBox=\"0 0 24 24\"\n",
              "     width=\"24px\">\n",
              "    <g>\n",
              "        <path d=\"M19 3H5c-1.1 0-2 .9-2 2v14c0 1.1.9 2 2 2h14c1.1 0 2-.9 2-2V5c0-1.1-.9-2-2-2zM9 17H7v-7h2v7zm4 0h-2V7h2v10zm4 0h-2v-4h2v4z\"/>\n",
              "    </g>\n",
              "</svg>\n",
              "  </button>\n",
              "\n",
              "<style>\n",
              "  .colab-df-quickchart {\n",
              "      --bg-color: #E8F0FE;\n",
              "      --fill-color: #1967D2;\n",
              "      --hover-bg-color: #E2EBFA;\n",
              "      --hover-fill-color: #174EA6;\n",
              "      --disabled-fill-color: #AAA;\n",
              "      --disabled-bg-color: #DDD;\n",
              "  }\n",
              "\n",
              "  [theme=dark] .colab-df-quickchart {\n",
              "      --bg-color: #3B4455;\n",
              "      --fill-color: #D2E3FC;\n",
              "      --hover-bg-color: #434B5C;\n",
              "      --hover-fill-color: #FFFFFF;\n",
              "      --disabled-bg-color: #3B4455;\n",
              "      --disabled-fill-color: #666;\n",
              "  }\n",
              "\n",
              "  .colab-df-quickchart {\n",
              "    background-color: var(--bg-color);\n",
              "    border: none;\n",
              "    border-radius: 50%;\n",
              "    cursor: pointer;\n",
              "    display: none;\n",
              "    fill: var(--fill-color);\n",
              "    height: 32px;\n",
              "    padding: 0;\n",
              "    width: 32px;\n",
              "  }\n",
              "\n",
              "  .colab-df-quickchart:hover {\n",
              "    background-color: var(--hover-bg-color);\n",
              "    box-shadow: 0 1px 2px rgba(60, 64, 67, 0.3), 0 1px 3px 1px rgba(60, 64, 67, 0.15);\n",
              "    fill: var(--button-hover-fill-color);\n",
              "  }\n",
              "\n",
              "  .colab-df-quickchart-complete:disabled,\n",
              "  .colab-df-quickchart-complete:disabled:hover {\n",
              "    background-color: var(--disabled-bg-color);\n",
              "    fill: var(--disabled-fill-color);\n",
              "    box-shadow: none;\n",
              "  }\n",
              "\n",
              "  .colab-df-spinner {\n",
              "    border: 2px solid var(--fill-color);\n",
              "    border-color: transparent;\n",
              "    border-bottom-color: var(--fill-color);\n",
              "    animation:\n",
              "      spin 1s steps(1) infinite;\n",
              "  }\n",
              "\n",
              "  @keyframes spin {\n",
              "    0% {\n",
              "      border-color: transparent;\n",
              "      border-bottom-color: var(--fill-color);\n",
              "      border-left-color: var(--fill-color);\n",
              "    }\n",
              "    20% {\n",
              "      border-color: transparent;\n",
              "      border-left-color: var(--fill-color);\n",
              "      border-top-color: var(--fill-color);\n",
              "    }\n",
              "    30% {\n",
              "      border-color: transparent;\n",
              "      border-left-color: var(--fill-color);\n",
              "      border-top-color: var(--fill-color);\n",
              "      border-right-color: var(--fill-color);\n",
              "    }\n",
              "    40% {\n",
              "      border-color: transparent;\n",
              "      border-right-color: var(--fill-color);\n",
              "      border-top-color: var(--fill-color);\n",
              "    }\n",
              "    60% {\n",
              "      border-color: transparent;\n",
              "      border-right-color: var(--fill-color);\n",
              "    }\n",
              "    80% {\n",
              "      border-color: transparent;\n",
              "      border-right-color: var(--fill-color);\n",
              "      border-bottom-color: var(--fill-color);\n",
              "    }\n",
              "    90% {\n",
              "      border-color: transparent;\n",
              "      border-bottom-color: var(--fill-color);\n",
              "    }\n",
              "  }\n",
              "</style>\n",
              "\n",
              "  <script>\n",
              "    async function quickchart(key) {\n",
              "      const quickchartButtonEl =\n",
              "        document.querySelector('#' + key + ' button');\n",
              "      quickchartButtonEl.disabled = true;  // To prevent multiple clicks.\n",
              "      quickchartButtonEl.classList.add('colab-df-spinner');\n",
              "      try {\n",
              "        const charts = await google.colab.kernel.invokeFunction(\n",
              "            'suggestCharts', [key], {});\n",
              "      } catch (error) {\n",
              "        console.error('Error during call to suggestCharts:', error);\n",
              "      }\n",
              "      quickchartButtonEl.classList.remove('colab-df-spinner');\n",
              "      quickchartButtonEl.classList.add('colab-df-quickchart-complete');\n",
              "    }\n",
              "    (() => {\n",
              "      let quickchartButtonEl =\n",
              "        document.querySelector('#df-98d393b8-0edf-4437-b843-96cda3e427be button');\n",
              "      quickchartButtonEl.style.display =\n",
              "        google.colab.kernel.accessAllowed ? 'block' : 'none';\n",
              "    })();\n",
              "  </script>\n",
              "</div>\n",
              "\n",
              "    </div>\n",
              "  </div>\n"
            ],
            "application/vnd.google.colaboratory.intrinsic+json": {
              "type": "dataframe",
              "summary": "{\n  \"name\": \"data_df\",\n  \"rows\": 8,\n  \"fields\": [\n    {\n      \"column\": \"Sales_before_digital_add(in $)\",\n      \"properties\": {\n        \"dtype\": \"number\",\n        \"std\": 67766.2860230139,\n        \"min\": 22.0,\n        \"max\": 178939.0,\n        \"samples\": [\n          149239.95454545456,\n          147444.0,\n          22.0\n        ],\n        \"num_unique_values\": 8,\n        \"semantic_type\": \"\",\n        \"description\": \"\"\n      }\n    },\n    {\n      \"column\": \"Sales_After_digital_add(in $)\",\n      \"properties\": {\n        \"dtype\": \"number\",\n        \"std\": 104785.0033126265,\n        \"min\": 22.0,\n        \"max\": 276279.0,\n        \"samples\": [\n          231123.72727272726,\n          229986.5,\n          22.0\n        ],\n        \"num_unique_values\": 8,\n        \"semantic_type\": \"\",\n        \"description\": \"\"\n      }\n    }\n  ]\n}"
            }
          },
          "metadata": {},
          "execution_count": 6
        }
      ]
    },
    {
      "cell_type": "markdown",
      "source": [
        "# **QUESTION 1 ● The company wishes to clarify whether there is any increase in sales after stepping into digital marketing**"
      ],
      "metadata": {
        "id": "_HK5k-c5iS3v"
      }
    },
    {
      "cell_type": "markdown",
      "source": [
        "Ans:"
      ],
      "metadata": {
        "id": "dZEjgNS8ixZR"
      }
    },
    {
      "cell_type": "markdown",
      "source": [
        "Since the sample size is less than 30.\n",
        "We have to consider\n",
        "# T-TEST\n"
      ],
      "metadata": {
        "id": "kLdMpcizXq_O"
      }
    },
    {
      "cell_type": "markdown",
      "source": [
        "**NULL HYPOTHESIS BE:- NO CHANGE IN sales after stepping into digital marketing.**\n",
        "\n",
        "**ALTERNATE HYPOTHESIS BE LIKE:- THERE IS AN INCREASE IN sales after stepping into digital marketing**"
      ],
      "metadata": {
        "id": "-98fA9QHc1BH"
      }
    },
    {
      "cell_type": "code",
      "source": [
        "t_stat,p_value=ttest_ind(data_df['Sales_before_digital_add(in $)'],data_df['Sales_After_digital_add(in $)'])\n",
        "p_value"
      ],
      "metadata": {
        "colab": {
          "base_uri": "https://localhost:8080/"
        },
        "id": "ZhLgmB3tXqAr",
        "outputId": "f02400a3-7cbc-44a8-f7c4-6a424bf59eea"
      },
      "execution_count": 7,
      "outputs": [
        {
          "output_type": "execute_result",
          "data": {
            "text/plain": [
              "2.614368006904645e-16"
            ]
          },
          "metadata": {},
          "execution_count": 7
        }
      ]
    },
    {
      "cell_type": "markdown",
      "source": [
        "\n",
        "As now we have set clear on what our null hypothesis and alternate hypothesis are:- It is time we set our important factor ALPHA or the level of significance. In hypothesis testing, the significance level (often denoted by the Greek letter α) is the threshold at which you reject the null hypothesis.\n",
        "\n",
        "# **α or significance level is set at 0.05.**"
      ],
      "metadata": {
        "id": "zlArHBwxfONy"
      }
    },
    {
      "cell_type": "code",
      "source": [
        "if p_value < 0.05:                      # ALPHA VALUE PLAYS A PIVOTIAL ROLE. p_value is less than the alpha value we reject the null hypothesis\n",
        "  print('REJECT THE NULL HYPOTHESIS')\n",
        "else:\n",
        "  print('ACCEPT THE NULL HYPOTHESIS')   # ALPHA VALUE PLAYS A PIVOTIAL ROLE. p_value is more than the alpha value we accept the null hypothesis"
      ],
      "metadata": {
        "colab": {
          "base_uri": "https://localhost:8080/"
        },
        "id": "gQv97fRTdhW5",
        "outputId": "bf0599a4-0cf9-495a-d745-a67aabd4801b"
      },
      "execution_count": 8,
      "outputs": [
        {
          "output_type": "stream",
          "name": "stdout",
          "text": [
            "REJECT THE NULL HYPOTHESIS\n"
          ]
        }
      ]
    },
    {
      "cell_type": "markdown",
      "source": [
        "# **LETS DO A Z TEST ALSO TO UNDERSTAND MORE**\n",
        "FOR ONE-TAILED Z TEST WE NEED MEAN VALUE SO CALULATE MEAN VALUE BY"
      ],
      "metadata": {
        "id": "G_k-LPVCdyRN"
      }
    },
    {
      "cell_type": "code",
      "source": [
        "Sales_before_mean = float(stat.mean(data_df['Sales_before_digital_add(in $)']))     #ALOOCATING A FLOAT DATATYPE TO SALES_BEFORE_MEAN which mean value of all data under\n",
        "                                                                                    #sales_before_digital_add(in $) and printing.\n",
        "Sales_before_mean"
      ],
      "metadata": {
        "colab": {
          "base_uri": "https://localhost:8080/"
        },
        "id": "mW_Vm4C2luhW",
        "outputId": "f156dbe1-77af-46b3-a95e-fe42688add5f"
      },
      "execution_count": 9,
      "outputs": [
        {
          "output_type": "execute_result",
          "data": {
            "text/plain": [
              "149239.95454545456"
            ]
          },
          "metadata": {},
          "execution_count": 9
        }
      ]
    },
    {
      "cell_type": "markdown",
      "source": [
        "## Consider doing **one tailed Z-Test**.  \n",
        "                      LET\n",
        "#**NULL HYPOTHESIS BE:- NO CHANGE IN sales after stepping into digital marketing.**\n",
        "\n",
        "\n",
        "\n",
        "\n",
        "\n",
        "\n",
        "#**ALTERNATE HYPOTHESIS:- THERE IS AN INCREASE IN sales after stepping into digital marketing**\n",
        "                              "
      ],
      "metadata": {
        "id": "AgeS5cltmbhV"
      }
    },
    {
      "cell_type": "markdown",
      "source": [
        "As now we have set clear on what our null hypothesis and alternate hypothesis are:- It is time we set our important factor ALPHA or the level of significance.\n",
        "In hypothesis testing, the significance level (often denoted by the Greek letter α) is the threshold at which you reject the null hypothesis.\n",
        "\n",
        "# **α or significance level is set at 0.05.**"
      ],
      "metadata": {
        "id": "I9exsnG9yBAa"
      }
    },
    {
      "cell_type": "code",
      "source": [
        "from statsmodels.stats.weightstats import ztest           #INVOCKING THE LIBRARY THAT CONTAINS Z TEST FUNCTIONS"
      ],
      "metadata": {
        "id": "1wAs8gmHmT97"
      },
      "execution_count": 10,
      "outputs": []
    },
    {
      "cell_type": "code",
      "source": [
        "Sales_before_mean       #THIS SERVES AS THE NUMBER THAT NEEDS TO BE INPUTED AS \"VALUE\" AMOUNT MAKE SURE ITS DYPE IS FLOAT OTHERWISE ERROR APPEARS"
      ],
      "metadata": {
        "colab": {
          "base_uri": "https://localhost:8080/"
        },
        "id": "VJXdno32qgoV",
        "outputId": "36ed9a61-32ea-4384-bec6-43cd26be97f8"
      },
      "execution_count": 11,
      "outputs": [
        {
          "output_type": "execute_result",
          "data": {
            "text/plain": [
              "149239.95454545456"
            ]
          },
          "metadata": {},
          "execution_count": 11
        }
      ]
    },
    {
      "cell_type": "code",
      "source": [
        "print(type(Sales_before_mean))"
      ],
      "metadata": {
        "colab": {
          "base_uri": "https://localhost:8080/"
        },
        "id": "ZXQHRr6rsrm1",
        "outputId": "08d09552-e711-4f84-b730-4bfb5f1e65b7"
      },
      "execution_count": 12,
      "outputs": [
        {
          "output_type": "stream",
          "name": "stdout",
          "text": [
            "<class 'float'>\n"
          ]
        }
      ]
    },
    {
      "cell_type": "code",
      "source": [
        "data_df_2 = data_df['Sales_before_digital_add(in $)'].values   #ADDING THE VALUES THAT FALL UNDER Sales_before_digital_add(in $) INTO ANOTHER DATA_DF_2 SEGMENT."
      ],
      "metadata": {
        "id": "2ZfgCwAJvb6a"
      },
      "execution_count": 13,
      "outputs": []
    },
    {
      "cell_type": "code",
      "source": [
        "z_stat, p_value = ztest(data_df_2, value=Sales_before_mean)       #SYNTAX TO INVOKE Z TEST"
      ],
      "metadata": {
        "id": "zQ_21qzzszrG"
      },
      "execution_count": 14,
      "outputs": []
    },
    {
      "cell_type": "code",
      "source": [
        "# Now you can use z_stat and p_value as needed\n",
        "print(\"Z-statistic:\", z_stat)\n",
        "print(\"P-value:\", p_value)"
      ],
      "metadata": {
        "colab": {
          "base_uri": "https://localhost:8080/"
        },
        "id": "C8dC9kNjxQrF",
        "outputId": "e9df3674-9cd1-40f6-f5a9-64e387334a51"
      },
      "execution_count": 15,
      "outputs": [
        {
          "output_type": "stream",
          "name": "stdout",
          "text": [
            "Z-statistic: 0.0\n",
            "P-value: 1.0\n"
          ]
        }
      ]
    },
    {
      "cell_type": "markdown",
      "source": [
        "# **Now has we have obtained the Z_stat value and P_value. Now we go on to reject or accept our null hypothesis.**"
      ],
      "metadata": {
        "id": "OnC5NzXrxd4K"
      }
    },
    {
      "cell_type": "code",
      "source": [
        "if p_value < 0.05:                      # ALPHA VALUE PLAYS A PIVOTIAL ROLE. p_value is less than the alpha value we reject the null hypothesis\n",
        "  print('REJECT THE NULL HYPOTHESIS')\n",
        "else:\n",
        "  print('ACCEPT THE NULL HYPOTHESIS')   # ALPHA VALUE PLAYS A PIVOTIAL ROLE. p_value is more than the alpha value we accept the null hypothesis"
      ],
      "metadata": {
        "colab": {
          "base_uri": "https://localhost:8080/"
        },
        "id": "DRBYVei40ejU",
        "outputId": "07d54dec-f5be-4239-c43c-bb403ebd4c55"
      },
      "execution_count": 16,
      "outputs": [
        {
          "output_type": "stream",
          "name": "stdout",
          "text": [
            "ACCEPT THE NULL HYPOTHESIS\n"
          ]
        }
      ]
    },
    {
      "cell_type": "markdown",
      "source": [
        "### **....DOUBLE CHECKING QUESTION 1...**"
      ],
      "metadata": {
        "id": "wRyRHjwu1IUn"
      }
    },
    {
      "cell_type": "code",
      "source": [
        "# Calculate the total sales before and after digital marketing\n",
        "total_sales_before = data_df['Sales_before_digital_add(in $)'].sum()\n",
        "total_sales_after = data_df['Sales_After_digital_add(in $)'].sum()\n",
        "\n",
        "# Check if there's an increase in sales after digital marketing\n",
        "if total_sales_after > total_sales_before:\n",
        "    print(\"There is an increase in sales after stepping into digital marketing.\")\n",
        "else:\n",
        "    print(\"There is no increase in sales after stepping into digital marketing.\")\n"
      ],
      "metadata": {
        "colab": {
          "base_uri": "https://localhost:8080/"
        },
        "id": "T-tq2xKM1RxA",
        "outputId": "dff3c1ef-ae8a-4ec1-ccf6-cec993f342b9"
      },
      "execution_count": 17,
      "outputs": [
        {
          "output_type": "stream",
          "name": "stdout",
          "text": [
            "There is an increase in sales after stepping into digital marketing.\n"
          ]
        }
      ]
    },
    {
      "cell_type": "markdown",
      "source": [
        "# **Question 2:- ● The company needs to check whether there is any dependency between the features “Region” and “Manager.**"
      ],
      "metadata": {
        "id": "McR7P5EE4xrG"
      }
    },
    {
      "cell_type": "markdown",
      "source": [
        "Consider doing one tailed chi_squared -Test.\n",
        "LET\n",
        "\n",
        "# **NULL HYPOTHESIS BE:- NO dependancy between the features \"region\" and \"Manager.**\n",
        "\n",
        "#**ALTERNATE HYPOTHESIS BE LIKE:- THERE IS A dependancy between the features \"region\" and \"Manager.**\n",
        "\n",
        "\n",
        "As now we have set clear on what our null hypothesis and alternate hypothesis are:- It is time we set our important factor ALPHA or the level of significance. In hypothesis testing, the significance level (often denoted by the Greek letter α) is the threshold at which you reject the null hypothesis.\n",
        "\n",
        "# **# α or significance level is set at 0.05.**"
      ],
      "metadata": {
        "id": "-ZI0lkHk6BwB"
      }
    },
    {
      "cell_type": "code",
      "source": [
        "# Perform a chi-squared test for independence between Region and Manager\n",
        "contingency_table = pd.crosstab(data_df['Region'], data_df['Manager'])\n",
        "chi2, p, dof, expected = chi2_contingency(contingency_table)"
      ],
      "metadata": {
        "id": "-VI-OnRV4xGl"
      },
      "execution_count": 18,
      "outputs": []
    },
    {
      "cell_type": "code",
      "source": [
        "print('Chi2 = ',chi2)\n",
        "print('p_value =', p)\n",
        "print('degrees of freedom =', dof)\n",
        "print('expected_value =',expected)"
      ],
      "metadata": {
        "colab": {
          "base_uri": "https://localhost:8080/"
        },
        "id": "ymL2fe4i70dt",
        "outputId": "604a7468-f727-4f55-8efc-0d4c0d9fe0b4"
      },
      "execution_count": 19,
      "outputs": [
        {
          "output_type": "stream",
          "name": "stdout",
          "text": [
            "Chi2 =  3.050566893424036\n",
            "p_value = 0.5493991051158094\n",
            "degrees of freedom = 4\n",
            "expected_value = [[4.09090909 3.18181818 2.72727273]\n",
            " [2.86363636 2.22727273 1.90909091]\n",
            " [2.04545455 1.59090909 1.36363636]]\n"
          ]
        }
      ]
    },
    {
      "cell_type": "code",
      "source": [
        "if p < 0.05:\n",
        "    print(\"There is a dependency between Region and Manager i.e reject null hypothesis.\")\n",
        "else:\n",
        "    print(\"There is no dependency between Region and Manager i.e accept Null hypothesis\")"
      ],
      "metadata": {
        "colab": {
          "base_uri": "https://localhost:8080/"
        },
        "id": "kAa8S9qD7uew",
        "outputId": "2144c063-9789-482b-94e4-745813395f76"
      },
      "execution_count": 20,
      "outputs": [
        {
          "output_type": "stream",
          "name": "stdout",
          "text": [
            "There is no dependency between Region and Manager i.e accept Null hypothesis\n"
          ]
        }
      ]
    },
    {
      "cell_type": "markdown",
      "source": [
        "SOLUTIONS TO THE QUESTION AT A GLANCE!!.\n",
        "\n",
        "QUESTION 1:-ANS\n",
        "                T-TEST:-THERE IS AN INCREASE IN sales after stepping into digital marketing. THAT IS REJECT NULL HYPOTHESIS.\n",
        "                Z-TEST:-THERE IS NO CHANGE IN sales after stepping into digital marketing. THAT IS ACCEPT NULL HYPOTHESIS.\n",
        "\n",
        "QUESTION 2:-ANS\n",
        "\n",
        "   .\n",
        "                CHI_SQUARED TEST:-NO dependancy between the features \"region\" and \"Manager. THAT IS ACCEPT NULL HYPOTHESIS.           "
      ],
      "metadata": {
        "id": "5Z-4OKFQkMdD"
      }
    },
    {
      "cell_type": "markdown",
      "source": [
        "##**THE END**"
      ],
      "metadata": {
        "id": "q2S5vQUhE604"
      }
    }
  ]
}